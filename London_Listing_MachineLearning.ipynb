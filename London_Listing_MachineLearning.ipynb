{
 "cells": [
  {
   "cell_type": "code",
   "execution_count": 4,
   "metadata": {},
   "outputs": [
    {
     "name": "stdout",
     "output_type": "stream",
     "text": [
      "Collecting xgboost\n",
      "  Downloading https://files.pythonhosted.org/packages/b1/11/cba4be5a737c6431323b89b5ade818b3bbe1df6e8261c6c70221a767c5d9/xgboost-1.0.2-py3-none-win_amd64.whl (24.6MB)\n",
      "Requirement already satisfied: scipy in c:\\users\\sumic\\anaconda3\\lib\\site-packages (from xgboost) (1.3.1)\n",
      "Requirement already satisfied: numpy in c:\\users\\sumic\\anaconda3\\lib\\site-packages (from xgboost) (1.16.5)\n",
      "Installing collected packages: xgboost\n",
      "Successfully installed xgboost-1.0.2\n",
      "Note: you may need to restart the kernel to use updated packages.\n"
     ]
    }
   ],
   "source": [
    "pip install xgboost"
   ]
  },
  {
   "cell_type": "code",
   "execution_count": 2,
   "metadata": {},
   "outputs": [],
   "source": [
    "import numpy as np\n",
    "import pandas as pd\n",
    "import seaborn as sns\n",
    "\n",
    "from sklearn.feature_extraction.text import CountVectorizer, TfidfVectorizer\n",
    "from sklearn.linear_model import Ridge, RidgeCV, Lasso\n",
    "from sklearn import metrics\n",
    "from sklearn.model_selection import cross_val_score, train_test_split\n",
    "import xgboost as xgb\n",
    "\n",
    "import warnings\n",
    "warnings.filterwarnings(\"ignore\")\n",
    "import matplotlib.pyplot as plt\n",
    "\n",
    "\n",
    "%config InlineBackend.figure_format = 'png'"
   ]
  },
  {
   "cell_type": "code",
   "execution_count": 3,
   "metadata": {},
   "outputs": [],
   "source": [
    "train = pd.read_csv(\"data/london_listings.csv\")"
   ]
  },
  {
   "cell_type": "code",
   "execution_count": 4,
   "metadata": {},
   "outputs": [
    {
     "data": {
      "text/html": [
       "<div>\n",
       "<style scoped>\n",
       "    .dataframe tbody tr th:only-of-type {\n",
       "        vertical-align: middle;\n",
       "    }\n",
       "\n",
       "    .dataframe tbody tr th {\n",
       "        vertical-align: top;\n",
       "    }\n",
       "\n",
       "    .dataframe thead th {\n",
       "        text-align: right;\n",
       "    }\n",
       "</style>\n",
       "<table border=\"1\" class=\"dataframe\">\n",
       "  <thead>\n",
       "    <tr style=\"text-align: right;\">\n",
       "      <th></th>\n",
       "      <th>price</th>\n",
       "      <th>neighbourhood_cleansed</th>\n",
       "      <th>bedrooms</th>\n",
       "      <th>property_type</th>\n",
       "      <th>room_type</th>\n",
       "      <th>name</th>\n",
       "      <th>summary</th>\n",
       "      <th>amenities</th>\n",
       "      <th>latitude</th>\n",
       "      <th>longitude</th>\n",
       "      <th>number_of_reviews</th>\n",
       "      <th>require_guest_phone_verification</th>\n",
       "      <th>minimum_nights</th>\n",
       "    </tr>\n",
       "  </thead>\n",
       "  <tbody>\n",
       "    <tr>\n",
       "      <td>0</td>\n",
       "      <td>100</td>\n",
       "      <td>Camden</td>\n",
       "      <td>1.0</td>\n",
       "      <td>Apartment</td>\n",
       "      <td>Private room</td>\n",
       "      <td>Studio-like floral themed bedroom, central London</td>\n",
       "      <td>A floral themed designed bedroom that   A flor...</td>\n",
       "      <td>{Wifi,Kitchen,Elevator,Heating,Washer,Dryer,Es...</td>\n",
       "      <td>51.52957</td>\n",
       "      <td>-0.12074</td>\n",
       "      <td>13</td>\n",
       "      <td>f</td>\n",
       "      <td>1</td>\n",
       "    </tr>\n",
       "    <tr>\n",
       "      <td>1</td>\n",
       "      <td>43</td>\n",
       "      <td>Merton</td>\n",
       "      <td>1.0</td>\n",
       "      <td>Apartment</td>\n",
       "      <td>Entire home/apt</td>\n",
       "      <td>Our family home</td>\n",
       "      <td>A cosy private studio flat in a quiet housing ...</td>\n",
       "      <td>{TV,Wifi,Kitchen,\"Free parking on premises\",Br...</td>\n",
       "      <td>51.40677</td>\n",
       "      <td>-0.14920</td>\n",
       "      <td>1</td>\n",
       "      <td>f</td>\n",
       "      <td>3</td>\n",
       "    </tr>\n",
       "    <tr>\n",
       "      <td>2</td>\n",
       "      <td>180</td>\n",
       "      <td>Westminster</td>\n",
       "      <td>2.0</td>\n",
       "      <td>Apartment</td>\n",
       "      <td>Entire home/apt</td>\n",
       "      <td>Luxurious top floor flat next to Regent's Park</td>\n",
       "      <td>Beautiful and airy two bedroom flat in St. Joh...</td>\n",
       "      <td>{TV,Wifi,Kitchen,Elevator,\"Indoor fireplace\",H...</td>\n",
       "      <td>51.53356</td>\n",
       "      <td>-0.16586</td>\n",
       "      <td>9</td>\n",
       "      <td>f</td>\n",
       "      <td>3</td>\n",
       "    </tr>\n",
       "    <tr>\n",
       "      <td>3</td>\n",
       "      <td>100</td>\n",
       "      <td>Waltham Forest</td>\n",
       "      <td>2.0</td>\n",
       "      <td>Apartment</td>\n",
       "      <td>Entire home/apt</td>\n",
       "      <td>Trendy East London flat with park views</td>\n",
       "      <td>Lovely house in East London Perfect if you wan...</td>\n",
       "      <td>{TV,Wifi,Kitchen,\"Free parking on premises\",\"F...</td>\n",
       "      <td>51.56652</td>\n",
       "      <td>-0.03130</td>\n",
       "      <td>3</td>\n",
       "      <td>f</td>\n",
       "      <td>4</td>\n",
       "    </tr>\n",
       "    <tr>\n",
       "      <td>4</td>\n",
       "      <td>96</td>\n",
       "      <td>Hammersmith and Fulham</td>\n",
       "      <td>2.0</td>\n",
       "      <td>Apartment</td>\n",
       "      <td>Entire home/apt</td>\n",
       "      <td>Spacious 2 Bedroom Flat in Great Location</td>\n",
       "      <td>Well lit, spacious, 2 bedroom flat in West Ken...</td>\n",
       "      <td>{Wifi,Kitchen,\"Paid parking off premises\",Heat...</td>\n",
       "      <td>51.49747</td>\n",
       "      <td>-0.21248</td>\n",
       "      <td>3</td>\n",
       "      <td>f</td>\n",
       "      <td>4</td>\n",
       "    </tr>\n",
       "  </tbody>\n",
       "</table>\n",
       "</div>"
      ],
      "text/plain": [
       "   price  neighbourhood_cleansed  bedrooms property_type        room_type  \\\n",
       "0    100                  Camden       1.0     Apartment     Private room   \n",
       "1     43                  Merton       1.0     Apartment  Entire home/apt   \n",
       "2    180             Westminster       2.0     Apartment  Entire home/apt   \n",
       "3    100          Waltham Forest       2.0     Apartment  Entire home/apt   \n",
       "4     96  Hammersmith and Fulham       2.0     Apartment  Entire home/apt   \n",
       "\n",
       "                                                name  \\\n",
       "0  Studio-like floral themed bedroom, central London   \n",
       "1                                    Our family home   \n",
       "2     Luxurious top floor flat next to Regent's Park   \n",
       "3            Trendy East London flat with park views   \n",
       "4          Spacious 2 Bedroom Flat in Great Location   \n",
       "\n",
       "                                             summary  \\\n",
       "0  A floral themed designed bedroom that   A flor...   \n",
       "1  A cosy private studio flat in a quiet housing ...   \n",
       "2  Beautiful and airy two bedroom flat in St. Joh...   \n",
       "3  Lovely house in East London Perfect if you wan...   \n",
       "4  Well lit, spacious, 2 bedroom flat in West Ken...   \n",
       "\n",
       "                                           amenities  latitude  longitude  \\\n",
       "0  {Wifi,Kitchen,Elevator,Heating,Washer,Dryer,Es...  51.52957   -0.12074   \n",
       "1  {TV,Wifi,Kitchen,\"Free parking on premises\",Br...  51.40677   -0.14920   \n",
       "2  {TV,Wifi,Kitchen,Elevator,\"Indoor fireplace\",H...  51.53356   -0.16586   \n",
       "3  {TV,Wifi,Kitchen,\"Free parking on premises\",\"F...  51.56652   -0.03130   \n",
       "4  {Wifi,Kitchen,\"Paid parking off premises\",Heat...  51.49747   -0.21248   \n",
       "\n",
       "   number_of_reviews require_guest_phone_verification  minimum_nights  \n",
       "0                 13                                f               1  \n",
       "1                  1                                f               3  \n",
       "2                  9                                f               3  \n",
       "3                  3                                f               4  \n",
       "4                  3                                f               4  "
      ]
     },
     "execution_count": 4,
     "metadata": {},
     "output_type": "execute_result"
    }
   ],
   "source": [
    "columns_cleaned = [\"price\", \"neighbourhood_cleansed\", \"bedrooms\",\n",
    "                   \"property_type\", \"room_type\", \"name\", \"summary\",\n",
    "                   \"amenities\", \"latitude\", \"longitude\", \"number_of_reviews\",\n",
    "                   \"require_guest_phone_verification\", \"minimum_nights\"]\n",
    "\n",
    "train = train[columns_cleaned]\n",
    "train.head()"
   ]
  },
  {
   "cell_type": "code",
   "execution_count": 5,
   "metadata": {},
   "outputs": [],
   "source": [
    "#define clean func to clean columns\n",
    "\n",
    "def clean(train):\n",
    "\n",
    "    train[\"bedrooms\"] = train[\"bedrooms\"].fillna(0.5) #studios\n",
    "    train[\"summary\"] = train[\"summary\"].fillna(\"\")\n",
    "    train[\"bedrooms\"] = train[\"bedrooms\"].astype(\"str\")\n",
    "\n",
    "    #replacing UNpopular types with other \n",
    "    popular_types = train[\"property_type\"].value_counts().head(6).index.values\n",
    "    train.loc[~train.property_type.isin(popular_types), \"property_type\"] = \"Other\"\n",
    "\n",
    "    #making price numeric:\n",
    "    train[\"price\"] = train[\"price\"].replace(\"[$,]\", \"\")\n",
    "    #eliminate crazy prices:\n",
    "    train = train[train[\"price\"] < 600]\n",
    "    \n",
    "    return train"
   ]
  },
  {
   "cell_type": "code",
   "execution_count": 6,
   "metadata": {},
   "outputs": [
    {
     "data": {
      "text/html": [
       "<div>\n",
       "<style scoped>\n",
       "    .dataframe tbody tr th:only-of-type {\n",
       "        vertical-align: middle;\n",
       "    }\n",
       "\n",
       "    .dataframe tbody tr th {\n",
       "        vertical-align: top;\n",
       "    }\n",
       "\n",
       "    .dataframe thead th {\n",
       "        text-align: right;\n",
       "    }\n",
       "</style>\n",
       "<table border=\"1\" class=\"dataframe\">\n",
       "  <thead>\n",
       "    <tr style=\"text-align: right;\">\n",
       "      <th></th>\n",
       "      <th>price</th>\n",
       "      <th>neighbourhood_cleansed</th>\n",
       "      <th>bedrooms</th>\n",
       "      <th>property_type</th>\n",
       "      <th>room_type</th>\n",
       "      <th>name</th>\n",
       "      <th>summary</th>\n",
       "      <th>amenities</th>\n",
       "      <th>latitude</th>\n",
       "      <th>longitude</th>\n",
       "      <th>number_of_reviews</th>\n",
       "      <th>require_guest_phone_verification</th>\n",
       "      <th>minimum_nights</th>\n",
       "    </tr>\n",
       "  </thead>\n",
       "  <tbody>\n",
       "    <tr>\n",
       "      <td>0</td>\n",
       "      <td>100</td>\n",
       "      <td>Camden</td>\n",
       "      <td>1.0</td>\n",
       "      <td>Apartment</td>\n",
       "      <td>Private room</td>\n",
       "      <td>Studio-like floral themed bedroom, central London</td>\n",
       "      <td>A floral themed designed bedroom that   A flor...</td>\n",
       "      <td>{Wifi,Kitchen,Elevator,Heating,Washer,Dryer,Es...</td>\n",
       "      <td>51.52957</td>\n",
       "      <td>-0.12074</td>\n",
       "      <td>13</td>\n",
       "      <td>f</td>\n",
       "      <td>1</td>\n",
       "    </tr>\n",
       "    <tr>\n",
       "      <td>1</td>\n",
       "      <td>43</td>\n",
       "      <td>Merton</td>\n",
       "      <td>1.0</td>\n",
       "      <td>Apartment</td>\n",
       "      <td>Entire home/apt</td>\n",
       "      <td>Our family home</td>\n",
       "      <td>A cosy private studio flat in a quiet housing ...</td>\n",
       "      <td>{TV,Wifi,Kitchen,\"Free parking on premises\",Br...</td>\n",
       "      <td>51.40677</td>\n",
       "      <td>-0.14920</td>\n",
       "      <td>1</td>\n",
       "      <td>f</td>\n",
       "      <td>3</td>\n",
       "    </tr>\n",
       "    <tr>\n",
       "      <td>2</td>\n",
       "      <td>180</td>\n",
       "      <td>Westminster</td>\n",
       "      <td>2.0</td>\n",
       "      <td>Apartment</td>\n",
       "      <td>Entire home/apt</td>\n",
       "      <td>Luxurious top floor flat next to Regent's Park</td>\n",
       "      <td>Beautiful and airy two bedroom flat in St. Joh...</td>\n",
       "      <td>{TV,Wifi,Kitchen,Elevator,\"Indoor fireplace\",H...</td>\n",
       "      <td>51.53356</td>\n",
       "      <td>-0.16586</td>\n",
       "      <td>9</td>\n",
       "      <td>f</td>\n",
       "      <td>3</td>\n",
       "    </tr>\n",
       "    <tr>\n",
       "      <td>3</td>\n",
       "      <td>100</td>\n",
       "      <td>Waltham Forest</td>\n",
       "      <td>2.0</td>\n",
       "      <td>Apartment</td>\n",
       "      <td>Entire home/apt</td>\n",
       "      <td>Trendy East London flat with park views</td>\n",
       "      <td>Lovely house in East London Perfect if you wan...</td>\n",
       "      <td>{TV,Wifi,Kitchen,\"Free parking on premises\",\"F...</td>\n",
       "      <td>51.56652</td>\n",
       "      <td>-0.03130</td>\n",
       "      <td>3</td>\n",
       "      <td>f</td>\n",
       "      <td>4</td>\n",
       "    </tr>\n",
       "    <tr>\n",
       "      <td>4</td>\n",
       "      <td>96</td>\n",
       "      <td>Hammersmith and Fulham</td>\n",
       "      <td>2.0</td>\n",
       "      <td>Apartment</td>\n",
       "      <td>Entire home/apt</td>\n",
       "      <td>Spacious 2 Bedroom Flat in Great Location</td>\n",
       "      <td>Well lit, spacious, 2 bedroom flat in West Ken...</td>\n",
       "      <td>{Wifi,Kitchen,\"Paid parking off premises\",Heat...</td>\n",
       "      <td>51.49747</td>\n",
       "      <td>-0.21248</td>\n",
       "      <td>3</td>\n",
       "      <td>f</td>\n",
       "      <td>4</td>\n",
       "    </tr>\n",
       "    <tr>\n",
       "      <td>...</td>\n",
       "      <td>...</td>\n",
       "      <td>...</td>\n",
       "      <td>...</td>\n",
       "      <td>...</td>\n",
       "      <td>...</td>\n",
       "      <td>...</td>\n",
       "      <td>...</td>\n",
       "      <td>...</td>\n",
       "      <td>...</td>\n",
       "      <td>...</td>\n",
       "      <td>...</td>\n",
       "      <td>...</td>\n",
       "      <td>...</td>\n",
       "    </tr>\n",
       "    <tr>\n",
       "      <td>86353</td>\n",
       "      <td>320</td>\n",
       "      <td>Westminster</td>\n",
       "      <td>2.0</td>\n",
       "      <td>Apartment</td>\n",
       "      <td>Entire home/apt</td>\n",
       "      <td>Charing Cross Area Spacious 2BR - Covent Garden</td>\n",
       "      <td>*When sending an inquiry or placing a booking ...</td>\n",
       "      <td>{TV,\"Cable TV\",Wifi,Kitchen,\"Paid parking off ...</td>\n",
       "      <td>51.51082</td>\n",
       "      <td>-0.12313</td>\n",
       "      <td>0</td>\n",
       "      <td>t</td>\n",
       "      <td>4</td>\n",
       "    </tr>\n",
       "    <tr>\n",
       "      <td>86354</td>\n",
       "      <td>78</td>\n",
       "      <td>Tower Hamlets</td>\n",
       "      <td>2.0</td>\n",
       "      <td>Apartment</td>\n",
       "      <td>Private room</td>\n",
       "      <td>1M2&amp;3 Bricklane &amp; Shoreditch Two Rooms</td>\n",
       "      <td></td>\n",
       "      <td>{Wifi,Kitchen,Heating,Washer,Essentials,Hanger...</td>\n",
       "      <td>51.52222</td>\n",
       "      <td>-0.06877</td>\n",
       "      <td>0</td>\n",
       "      <td>f</td>\n",
       "      <td>2</td>\n",
       "    </tr>\n",
       "    <tr>\n",
       "      <td>86355</td>\n",
       "      <td>40</td>\n",
       "      <td>Islington</td>\n",
       "      <td>1.0</td>\n",
       "      <td>House</td>\n",
       "      <td>Private room</td>\n",
       "      <td>Cozy room in a 3bed Maisonette next to Kings C...</td>\n",
       "      <td>A welcoming beautiful house, situated in Centr...</td>\n",
       "      <td>{TV,Wifi,Kitchen,Heating,Washer,\"Smoke detecto...</td>\n",
       "      <td>51.53724</td>\n",
       "      <td>-0.11841</td>\n",
       "      <td>0</td>\n",
       "      <td>f</td>\n",
       "      <td>2</td>\n",
       "    </tr>\n",
       "    <tr>\n",
       "      <td>86356</td>\n",
       "      <td>150</td>\n",
       "      <td>Westminster</td>\n",
       "      <td>2.0</td>\n",
       "      <td>Apartment</td>\n",
       "      <td>Entire home/apt</td>\n",
       "      <td>Luxurious Two Floored Apartment North West London</td>\n",
       "      <td>Welcome to our warm apartment which is a stone...</td>\n",
       "      <td>{TV,\"Cable TV\",Wifi,Kitchen,Heating,Washer,\"Sm...</td>\n",
       "      <td>51.52821</td>\n",
       "      <td>-0.16964</td>\n",
       "      <td>0</td>\n",
       "      <td>f</td>\n",
       "      <td>1</td>\n",
       "    </tr>\n",
       "    <tr>\n",
       "      <td>86357</td>\n",
       "      <td>187</td>\n",
       "      <td>Islington</td>\n",
       "      <td>3.0</td>\n",
       "      <td>Apartment</td>\n",
       "      <td>Entire home/apt</td>\n",
       "      <td>Entire place for self isolated to be safe Kings X</td>\n",
       "      <td>It is very close to Kings Cross station. There...</td>\n",
       "      <td>{Wifi,Kitchen,Heating,Washer,\"Fire extinguishe...</td>\n",
       "      <td>51.53362</td>\n",
       "      <td>-0.11858</td>\n",
       "      <td>0</td>\n",
       "      <td>f</td>\n",
       "      <td>1</td>\n",
       "    </tr>\n",
       "  </tbody>\n",
       "</table>\n",
       "<p>84514 rows × 13 columns</p>\n",
       "</div>"
      ],
      "text/plain": [
       "       price  neighbourhood_cleansed bedrooms property_type        room_type  \\\n",
       "0        100                  Camden      1.0     Apartment     Private room   \n",
       "1         43                  Merton      1.0     Apartment  Entire home/apt   \n",
       "2        180             Westminster      2.0     Apartment  Entire home/apt   \n",
       "3        100          Waltham Forest      2.0     Apartment  Entire home/apt   \n",
       "4         96  Hammersmith and Fulham      2.0     Apartment  Entire home/apt   \n",
       "...      ...                     ...      ...           ...              ...   \n",
       "86353    320             Westminster      2.0     Apartment  Entire home/apt   \n",
       "86354     78           Tower Hamlets      2.0     Apartment     Private room   \n",
       "86355     40               Islington      1.0         House     Private room   \n",
       "86356    150             Westminster      2.0     Apartment  Entire home/apt   \n",
       "86357    187               Islington      3.0     Apartment  Entire home/apt   \n",
       "\n",
       "                                                    name  \\\n",
       "0      Studio-like floral themed bedroom, central London   \n",
       "1                                        Our family home   \n",
       "2         Luxurious top floor flat next to Regent's Park   \n",
       "3                Trendy East London flat with park views   \n",
       "4              Spacious 2 Bedroom Flat in Great Location   \n",
       "...                                                  ...   \n",
       "86353    Charing Cross Area Spacious 2BR - Covent Garden   \n",
       "86354             1M2&3 Bricklane & Shoreditch Two Rooms   \n",
       "86355  Cozy room in a 3bed Maisonette next to Kings C...   \n",
       "86356  Luxurious Two Floored Apartment North West London   \n",
       "86357  Entire place for self isolated to be safe Kings X   \n",
       "\n",
       "                                                 summary  \\\n",
       "0      A floral themed designed bedroom that   A flor...   \n",
       "1      A cosy private studio flat in a quiet housing ...   \n",
       "2      Beautiful and airy two bedroom flat in St. Joh...   \n",
       "3      Lovely house in East London Perfect if you wan...   \n",
       "4      Well lit, spacious, 2 bedroom flat in West Ken...   \n",
       "...                                                  ...   \n",
       "86353  *When sending an inquiry or placing a booking ...   \n",
       "86354                                                      \n",
       "86355  A welcoming beautiful house, situated in Centr...   \n",
       "86356  Welcome to our warm apartment which is a stone...   \n",
       "86357  It is very close to Kings Cross station. There...   \n",
       "\n",
       "                                               amenities  latitude  longitude  \\\n",
       "0      {Wifi,Kitchen,Elevator,Heating,Washer,Dryer,Es...  51.52957   -0.12074   \n",
       "1      {TV,Wifi,Kitchen,\"Free parking on premises\",Br...  51.40677   -0.14920   \n",
       "2      {TV,Wifi,Kitchen,Elevator,\"Indoor fireplace\",H...  51.53356   -0.16586   \n",
       "3      {TV,Wifi,Kitchen,\"Free parking on premises\",\"F...  51.56652   -0.03130   \n",
       "4      {Wifi,Kitchen,\"Paid parking off premises\",Heat...  51.49747   -0.21248   \n",
       "...                                                  ...       ...        ...   \n",
       "86353  {TV,\"Cable TV\",Wifi,Kitchen,\"Paid parking off ...  51.51082   -0.12313   \n",
       "86354  {Wifi,Kitchen,Heating,Washer,Essentials,Hanger...  51.52222   -0.06877   \n",
       "86355  {TV,Wifi,Kitchen,Heating,Washer,\"Smoke detecto...  51.53724   -0.11841   \n",
       "86356  {TV,\"Cable TV\",Wifi,Kitchen,Heating,Washer,\"Sm...  51.52821   -0.16964   \n",
       "86357  {Wifi,Kitchen,Heating,Washer,\"Fire extinguishe...  51.53362   -0.11858   \n",
       "\n",
       "       number_of_reviews require_guest_phone_verification  minimum_nights  \n",
       "0                     13                                f               1  \n",
       "1                      1                                f               3  \n",
       "2                      9                                f               3  \n",
       "3                      3                                f               4  \n",
       "4                      3                                f               4  \n",
       "...                  ...                              ...             ...  \n",
       "86353                  0                                t               4  \n",
       "86354                  0                                f               2  \n",
       "86355                  0                                f               2  \n",
       "86356                  0                                f               1  \n",
       "86357                  0                                f               1  \n",
       "\n",
       "[84514 rows x 13 columns]"
      ]
     },
     "execution_count": 6,
     "metadata": {},
     "output_type": "execute_result"
    }
   ],
   "source": [
    "train = clean(train)\n",
    "train"
   ]
  },
  {
   "cell_type": "markdown",
   "metadata": {},
   "source": [
    "# Exploratory Data Analysis: Now, will have a look at the distribution of prices:\n"
   ]
  },
  {
   "cell_type": "code",
   "execution_count": 7,
   "metadata": {},
   "outputs": [
    {
     "data": {
      "text/plain": [
       "89.07176117661457"
      ]
     },
     "execution_count": 7,
     "metadata": {},
     "output_type": "execute_result"
    },
    {
     "data": {
      "image/png": "[encoded data removed]",
      "text/plain": [
       "<Figure size 432x288 with 1 Axes>"
      ]
     },
     "metadata": {
      "needs_background": "light"
     },
     "output_type": "display_data"
    }
   ],
   "source": [
    "train[\"price\"].hist(bins = 30)\n",
    "train[\"price\"].std()\n",
    "\n",
    "#plt.savefig('static/data/prices_stddeviation.png')"
   ]
  },
  {
   "cell_type": "markdown",
   "metadata": {},
   "source": [
    "# Price by number of bedrooms:"
   ]
  },
  {
   "cell_type": "code",
   "execution_count": 8,
   "metadata": {},
   "outputs": [
    {
     "data": {
      "image/png": "[encoded data removed]",
      "text/plain": [
       "<Figure size 576x432 with 1 Axes>"
      ]
     },
     "metadata": {
      "needs_background": "light"
     },
     "output_type": "display_data"
    }
   ],
   "source": [
    "(train.pivot(columns = \"bedrooms\", values = \"price\")\n",
    "         .plot.hist(bins = 30, stacked = True, figsize=(8,6)))\n",
    "\n",
    "plt.savefig('static/img/bedrooms_frequency.png')"
   ]
  },
  {
   "cell_type": "code",
   "execution_count": 9,
   "metadata": {},
   "outputs": [
    {
     "data": {
      "image/png": "[encoded data removed]",
      "text/plain": [
       "<Figure size 432x288 with 1 Axes>"
      ]
     },
     "metadata": {
      "needs_background": "light"
     },
     "output_type": "display_data"
    }
   ],
   "source": [
    "sns.barplot(x = \"bedrooms\", y = \"price\", data = train)\n",
    "\n",
    "plt.savefig('static/img/price_bedrooms.png')"
   ]
  },
  {
   "cell_type": "markdown",
   "metadata": {},
   "source": [
    "# Price by room_type:"
   ]
  },
  {
   "cell_type": "code",
   "execution_count": 10,
   "metadata": {},
   "outputs": [
    {
     "data": {
      "image/png": "[encoded data removed]",
      "text/plain": [
       "<Figure size 432x288 with 1 Axes>"
      ]
     },
     "metadata": {
      "needs_background": "light"
     },
     "output_type": "display_data"
    }
   ],
   "source": [
    "(train.pivot(columns = \"room_type\", values = \"price\")\n",
    "         .plot.hist(bins = 30, stacked = False, alpha = 0.8))\n",
    "\n",
    "plt.savefig('static/data/roomtype_price.png', dpi=300)\n"
   ]
  },
  {
   "cell_type": "code",
   "execution_count": 11,
   "metadata": {},
   "outputs": [
    {
     "data": {
      "text/plain": [
       "room_type\n",
       "Entire home/apt    147.075432\n",
       "Hotel room         143.134111\n",
       "Private room        53.582948\n",
       "Shared room         56.155449\n",
       "Name: price, dtype: float64"
      ]
     },
     "execution_count": 11,
     "metadata": {},
     "output_type": "execute_result"
    }
   ],
   "source": [
    "train.groupby(\"room_type\")[\"price\"].mean()"
   ]
  },
  {
   "cell_type": "markdown",
   "metadata": {},
   "source": [
    "Room type DOES matter - private rooms averaged around 53, entire homes averaged around 147"
   ]
  },
  {
   "cell_type": "code",
   "execution_count": 12,
   "metadata": {},
   "outputs": [
    {
     "data": {
      "text/html": [
       "<div>\n",
       "<style scoped>\n",
       "    .dataframe tbody tr th:only-of-type {\n",
       "        vertical-align: middle;\n",
       "    }\n",
       "\n",
       "    .dataframe tbody tr th {\n",
       "        vertical-align: top;\n",
       "    }\n",
       "\n",
       "    .dataframe thead th {\n",
       "        text-align: right;\n",
       "    }\n",
       "</style>\n",
       "<table border=\"1\" class=\"dataframe\">\n",
       "  <thead>\n",
       "    <tr style=\"text-align: right;\">\n",
       "      <th></th>\n",
       "      <th>name</th>\n",
       "      <th>summary</th>\n",
       "      <th>amenities</th>\n",
       "    </tr>\n",
       "  </thead>\n",
       "  <tbody>\n",
       "    <tr>\n",
       "      <td>0</td>\n",
       "      <td>Studio-like floral themed bedroom, central London</td>\n",
       "      <td>A floral themed designed bedroom that   A flor...</td>\n",
       "      <td>{Wifi,Kitchen,Elevator,Heating,Washer,Dryer,Es...</td>\n",
       "    </tr>\n",
       "    <tr>\n",
       "      <td>1</td>\n",
       "      <td>Our family home</td>\n",
       "      <td>A cosy private studio flat in a quiet housing ...</td>\n",
       "      <td>{TV,Wifi,Kitchen,\"Free parking on premises\",Br...</td>\n",
       "    </tr>\n",
       "    <tr>\n",
       "      <td>2</td>\n",
       "      <td>Luxurious top floor flat next to Regent's Park</td>\n",
       "      <td>Beautiful and airy two bedroom flat in St. Joh...</td>\n",
       "      <td>{TV,Wifi,Kitchen,Elevator,\"Indoor fireplace\",H...</td>\n",
       "    </tr>\n",
       "    <tr>\n",
       "      <td>3</td>\n",
       "      <td>Trendy East London flat with park views</td>\n",
       "      <td>Lovely house in East London Perfect if you wan...</td>\n",
       "      <td>{TV,Wifi,Kitchen,\"Free parking on premises\",\"F...</td>\n",
       "    </tr>\n",
       "    <tr>\n",
       "      <td>4</td>\n",
       "      <td>Spacious 2 Bedroom Flat in Great Location</td>\n",
       "      <td>Well lit, spacious, 2 bedroom flat in West Ken...</td>\n",
       "      <td>{Wifi,Kitchen,\"Paid parking off premises\",Heat...</td>\n",
       "    </tr>\n",
       "    <tr>\n",
       "      <td>...</td>\n",
       "      <td>...</td>\n",
       "      <td>...</td>\n",
       "      <td>...</td>\n",
       "    </tr>\n",
       "    <tr>\n",
       "      <td>86353</td>\n",
       "      <td>Charing Cross Area Spacious 2BR - Covent Garden</td>\n",
       "      <td>*When sending an inquiry or placing a booking ...</td>\n",
       "      <td>{TV,\"Cable TV\",Wifi,Kitchen,\"Paid parking off ...</td>\n",
       "    </tr>\n",
       "    <tr>\n",
       "      <td>86354</td>\n",
       "      <td>1M2&amp;3 Bricklane &amp; Shoreditch Two Rooms</td>\n",
       "      <td></td>\n",
       "      <td>{Wifi,Kitchen,Heating,Washer,Essentials,Hanger...</td>\n",
       "    </tr>\n",
       "    <tr>\n",
       "      <td>86355</td>\n",
       "      <td>Cozy room in a 3bed Maisonette next to Kings C...</td>\n",
       "      <td>A welcoming beautiful house, situated in Centr...</td>\n",
       "      <td>{TV,Wifi,Kitchen,Heating,Washer,\"Smoke detecto...</td>\n",
       "    </tr>\n",
       "    <tr>\n",
       "      <td>86356</td>\n",
       "      <td>Luxurious Two Floored Apartment North West London</td>\n",
       "      <td>Welcome to our warm apartment which is a stone...</td>\n",
       "      <td>{TV,\"Cable TV\",Wifi,Kitchen,Heating,Washer,\"Sm...</td>\n",
       "    </tr>\n",
       "    <tr>\n",
       "      <td>86357</td>\n",
       "      <td>Entire place for self isolated to be safe Kings X</td>\n",
       "      <td>It is very close to Kings Cross station. There...</td>\n",
       "      <td>{Wifi,Kitchen,Heating,Washer,\"Fire extinguishe...</td>\n",
       "    </tr>\n",
       "  </tbody>\n",
       "</table>\n",
       "<p>84514 rows × 3 columns</p>\n",
       "</div>"
      ],
      "text/plain": [
       "                                                    name  \\\n",
       "0      Studio-like floral themed bedroom, central London   \n",
       "1                                        Our family home   \n",
       "2         Luxurious top floor flat next to Regent's Park   \n",
       "3                Trendy East London flat with park views   \n",
       "4              Spacious 2 Bedroom Flat in Great Location   \n",
       "...                                                  ...   \n",
       "86353    Charing Cross Area Spacious 2BR - Covent Garden   \n",
       "86354             1M2&3 Bricklane & Shoreditch Two Rooms   \n",
       "86355  Cozy room in a 3bed Maisonette next to Kings C...   \n",
       "86356  Luxurious Two Floored Apartment North West London   \n",
       "86357  Entire place for self isolated to be safe Kings X   \n",
       "\n",
       "                                                 summary  \\\n",
       "0      A floral themed designed bedroom that   A flor...   \n",
       "1      A cosy private studio flat in a quiet housing ...   \n",
       "2      Beautiful and airy two bedroom flat in St. Joh...   \n",
       "3      Lovely house in East London Perfect if you wan...   \n",
       "4      Well lit, spacious, 2 bedroom flat in West Ken...   \n",
       "...                                                  ...   \n",
       "86353  *When sending an inquiry or placing a booking ...   \n",
       "86354                                                      \n",
       "86355  A welcoming beautiful house, situated in Centr...   \n",
       "86356  Welcome to our warm apartment which is a stone...   \n",
       "86357  It is very close to Kings Cross station. There...   \n",
       "\n",
       "                                               amenities  \n",
       "0      {Wifi,Kitchen,Elevator,Heating,Washer,Dryer,Es...  \n",
       "1      {TV,Wifi,Kitchen,\"Free parking on premises\",Br...  \n",
       "2      {TV,Wifi,Kitchen,Elevator,\"Indoor fireplace\",H...  \n",
       "3      {TV,Wifi,Kitchen,\"Free parking on premises\",\"F...  \n",
       "4      {Wifi,Kitchen,\"Paid parking off premises\",Heat...  \n",
       "...                                                  ...  \n",
       "86353  {TV,\"Cable TV\",Wifi,Kitchen,\"Paid parking off ...  \n",
       "86354  {Wifi,Kitchen,Heating,Washer,Essentials,Hanger...  \n",
       "86355  {TV,Wifi,Kitchen,Heating,Washer,\"Smoke detecto...  \n",
       "86356  {TV,\"Cable TV\",Wifi,Kitchen,Heating,Washer,\"Sm...  \n",
       "86357  {Wifi,Kitchen,Heating,Washer,\"Fire extinguishe...  \n",
       "\n",
       "[84514 rows x 3 columns]"
      ]
     },
     "execution_count": 12,
     "metadata": {},
     "output_type": "execute_result"
    }
   ],
   "source": [
    "y = train[\"price\"]\n",
    "train_num_cat = train[[\"neighbourhood_cleansed\", \"bedrooms\",\n",
    "                   \"property_type\", \"room_type\", \"latitude\", \"longitude\",\n",
    "                   \"number_of_reviews\", \"require_guest_phone_verification\",\n",
    "                    \"minimum_nights\"]]\n",
    "\n",
    "train_text = train[[\"name\", \"summary\", \"amenities\"]]\n",
    "train_text"
   ]
  },
  {
   "cell_type": "markdown",
   "metadata": {},
   "source": [
    "Now let's one hot encode the categorical data:"
   ]
  },
  {
   "cell_type": "code",
   "execution_count": 13,
   "metadata": {},
   "outputs": [],
   "source": [
    "X_num = pd.get_dummies(train_num_cat)"
   ]
  },
  {
   "cell_type": "code",
   "execution_count": 14,
   "metadata": {},
   "outputs": [
    {
     "data": {
      "text/html": [
       "<div>\n",
       "<style scoped>\n",
       "    .dataframe tbody tr th:only-of-type {\n",
       "        vertical-align: middle;\n",
       "    }\n",
       "\n",
       "    .dataframe tbody tr th {\n",
       "        vertical-align: top;\n",
       "    }\n",
       "\n",
       "    .dataframe thead th {\n",
       "        text-align: right;\n",
       "    }\n",
       "</style>\n",
       "<table border=\"1\" class=\"dataframe\">\n",
       "  <thead>\n",
       "    <tr style=\"text-align: right;\">\n",
       "      <th></th>\n",
       "      <th>name</th>\n",
       "      <th>summary</th>\n",
       "      <th>amenities</th>\n",
       "    </tr>\n",
       "  </thead>\n",
       "  <tbody>\n",
       "    <tr>\n",
       "      <td>0</td>\n",
       "      <td>Studio-like floral themed bedroom, central London</td>\n",
       "      <td>A floral themed designed bedroom that   A flor...</td>\n",
       "      <td>{Wifi,Kitchen,Elevator,Heating,Washer,Dryer,Es...</td>\n",
       "    </tr>\n",
       "    <tr>\n",
       "      <td>1</td>\n",
       "      <td>Our family home</td>\n",
       "      <td>A cosy private studio flat in a quiet housing ...</td>\n",
       "      <td>{TV,Wifi,Kitchen,\"Free parking on premises\",Br...</td>\n",
       "    </tr>\n",
       "    <tr>\n",
       "      <td>2</td>\n",
       "      <td>Luxurious top floor flat next to Regent's Park</td>\n",
       "      <td>Beautiful and airy two bedroom flat in St. Joh...</td>\n",
       "      <td>{TV,Wifi,Kitchen,Elevator,\"Indoor fireplace\",H...</td>\n",
       "    </tr>\n",
       "    <tr>\n",
       "      <td>3</td>\n",
       "      <td>Trendy East London flat with park views</td>\n",
       "      <td>Lovely house in East London Perfect if you wan...</td>\n",
       "      <td>{TV,Wifi,Kitchen,\"Free parking on premises\",\"F...</td>\n",
       "    </tr>\n",
       "    <tr>\n",
       "      <td>4</td>\n",
       "      <td>Spacious 2 Bedroom Flat in Great Location</td>\n",
       "      <td>Well lit, spacious, 2 bedroom flat in West Ken...</td>\n",
       "      <td>{Wifi,Kitchen,\"Paid parking off premises\",Heat...</td>\n",
       "    </tr>\n",
       "  </tbody>\n",
       "</table>\n",
       "</div>"
      ],
      "text/plain": [
       "                                                name  \\\n",
       "0  Studio-like floral themed bedroom, central London   \n",
       "1                                    Our family home   \n",
       "2     Luxurious top floor flat next to Regent's Park   \n",
       "3            Trendy East London flat with park views   \n",
       "4          Spacious 2 Bedroom Flat in Great Location   \n",
       "\n",
       "                                             summary  \\\n",
       "0  A floral themed designed bedroom that   A flor...   \n",
       "1  A cosy private studio flat in a quiet housing ...   \n",
       "2  Beautiful and airy two bedroom flat in St. Joh...   \n",
       "3  Lovely house in East London Perfect if you wan...   \n",
       "4  Well lit, spacious, 2 bedroom flat in West Ken...   \n",
       "\n",
       "                                           amenities  \n",
       "0  {Wifi,Kitchen,Elevator,Heating,Washer,Dryer,Es...  \n",
       "1  {TV,Wifi,Kitchen,\"Free parking on premises\",Br...  \n",
       "2  {TV,Wifi,Kitchen,Elevator,\"Indoor fireplace\",H...  \n",
       "3  {TV,Wifi,Kitchen,\"Free parking on premises\",\"F...  \n",
       "4  {Wifi,Kitchen,\"Paid parking off premises\",Heat...  "
      ]
     },
     "execution_count": 14,
     "metadata": {},
     "output_type": "execute_result"
    }
   ],
   "source": [
    "train_text.head()"
   ]
  },
  {
   "cell_type": "code",
   "execution_count": 15,
   "metadata": {},
   "outputs": [],
   "source": [
    "train.amenities = train.amenities.str.replace(\"[{}]\", \"\")"
   ]
  },
  {
   "cell_type": "code",
   "execution_count": 16,
   "metadata": {},
   "outputs": [],
   "source": [
    "amenity_ohe = train.amenities.str.get_dummies(sep = \",\")"
   ]
  },
  {
   "cell_type": "code",
   "execution_count": 17,
   "metadata": {},
   "outputs": [],
   "source": [
    "train.amenities = train.amenities.str.replace(\"[{}]\", \"\")\n",
    "amenity_ohe = train.amenities.str.get_dummies(sep = \",\")"
   ]
  },
  {
   "cell_type": "code",
   "execution_count": 18,
   "metadata": {},
   "outputs": [
    {
     "data": {
      "text/html": [
       "<div>\n",
       "<style scoped>\n",
       "    .dataframe tbody tr th:only-of-type {\n",
       "        vertical-align: middle;\n",
       "    }\n",
       "\n",
       "    .dataframe tbody tr th {\n",
       "        vertical-align: top;\n",
       "    }\n",
       "\n",
       "    .dataframe thead th {\n",
       "        text-align: right;\n",
       "    }\n",
       "</style>\n",
       "<table border=\"1\" class=\"dataframe\">\n",
       "  <thead>\n",
       "    <tr style=\"text-align: right;\">\n",
       "      <th></th>\n",
       "      <th>toilet\"</th>\n",
       "      <th>\"24-hour check-in\"</th>\n",
       "      <th>\"Accessible-height bed\"</th>\n",
       "      <th>\"Accessible-height toilet\"</th>\n",
       "      <th>\"Air conditioning\"</th>\n",
       "      <th>\"Air purifier\"</th>\n",
       "      <th>\"Airport shuttle\"</th>\n",
       "      <th>\"Alfresco bathtub\"</th>\n",
       "      <th>\"Amazon Echo\"</th>\n",
       "      <th>\"BBQ grill\"</th>\n",
       "      <th>...</th>\n",
       "      <th>Safe</th>\n",
       "      <th>Shampoo</th>\n",
       "      <th>Ski-in/Ski-out</th>\n",
       "      <th>Stove</th>\n",
       "      <th>TV</th>\n",
       "      <th>Terrace</th>\n",
       "      <th>Washer</th>\n",
       "      <th>Washer/Dryer</th>\n",
       "      <th>Waterfront</th>\n",
       "      <th>Wifi</th>\n",
       "    </tr>\n",
       "  </thead>\n",
       "  <tbody>\n",
       "    <tr>\n",
       "      <td>0</td>\n",
       "      <td>0</td>\n",
       "      <td>0</td>\n",
       "      <td>0</td>\n",
       "      <td>0</td>\n",
       "      <td>0</td>\n",
       "      <td>0</td>\n",
       "      <td>0</td>\n",
       "      <td>0</td>\n",
       "      <td>0</td>\n",
       "      <td>0</td>\n",
       "      <td>...</td>\n",
       "      <td>0</td>\n",
       "      <td>1</td>\n",
       "      <td>0</td>\n",
       "      <td>0</td>\n",
       "      <td>0</td>\n",
       "      <td>0</td>\n",
       "      <td>1</td>\n",
       "      <td>0</td>\n",
       "      <td>0</td>\n",
       "      <td>1</td>\n",
       "    </tr>\n",
       "    <tr>\n",
       "      <td>1</td>\n",
       "      <td>0</td>\n",
       "      <td>0</td>\n",
       "      <td>0</td>\n",
       "      <td>0</td>\n",
       "      <td>0</td>\n",
       "      <td>0</td>\n",
       "      <td>0</td>\n",
       "      <td>0</td>\n",
       "      <td>0</td>\n",
       "      <td>0</td>\n",
       "      <td>...</td>\n",
       "      <td>0</td>\n",
       "      <td>1</td>\n",
       "      <td>0</td>\n",
       "      <td>0</td>\n",
       "      <td>1</td>\n",
       "      <td>0</td>\n",
       "      <td>1</td>\n",
       "      <td>0</td>\n",
       "      <td>0</td>\n",
       "      <td>1</td>\n",
       "    </tr>\n",
       "    <tr>\n",
       "      <td>2</td>\n",
       "      <td>0</td>\n",
       "      <td>0</td>\n",
       "      <td>0</td>\n",
       "      <td>0</td>\n",
       "      <td>0</td>\n",
       "      <td>0</td>\n",
       "      <td>0</td>\n",
       "      <td>0</td>\n",
       "      <td>0</td>\n",
       "      <td>0</td>\n",
       "      <td>...</td>\n",
       "      <td>0</td>\n",
       "      <td>0</td>\n",
       "      <td>0</td>\n",
       "      <td>1</td>\n",
       "      <td>1</td>\n",
       "      <td>0</td>\n",
       "      <td>1</td>\n",
       "      <td>0</td>\n",
       "      <td>0</td>\n",
       "      <td>1</td>\n",
       "    </tr>\n",
       "    <tr>\n",
       "      <td>3</td>\n",
       "      <td>0</td>\n",
       "      <td>0</td>\n",
       "      <td>0</td>\n",
       "      <td>0</td>\n",
       "      <td>0</td>\n",
       "      <td>0</td>\n",
       "      <td>0</td>\n",
       "      <td>0</td>\n",
       "      <td>0</td>\n",
       "      <td>0</td>\n",
       "      <td>...</td>\n",
       "      <td>0</td>\n",
       "      <td>1</td>\n",
       "      <td>0</td>\n",
       "      <td>1</td>\n",
       "      <td>1</td>\n",
       "      <td>0</td>\n",
       "      <td>1</td>\n",
       "      <td>0</td>\n",
       "      <td>0</td>\n",
       "      <td>1</td>\n",
       "    </tr>\n",
       "    <tr>\n",
       "      <td>4</td>\n",
       "      <td>0</td>\n",
       "      <td>0</td>\n",
       "      <td>0</td>\n",
       "      <td>0</td>\n",
       "      <td>0</td>\n",
       "      <td>0</td>\n",
       "      <td>0</td>\n",
       "      <td>0</td>\n",
       "      <td>0</td>\n",
       "      <td>0</td>\n",
       "      <td>...</td>\n",
       "      <td>0</td>\n",
       "      <td>1</td>\n",
       "      <td>0</td>\n",
       "      <td>1</td>\n",
       "      <td>0</td>\n",
       "      <td>0</td>\n",
       "      <td>1</td>\n",
       "      <td>0</td>\n",
       "      <td>0</td>\n",
       "      <td>1</td>\n",
       "    </tr>\n",
       "  </tbody>\n",
       "</table>\n",
       "<p>5 rows × 211 columns</p>\n",
       "</div>"
      ],
      "text/plain": [
       "    toilet\"  \"24-hour check-in\"  \"Accessible-height bed\"  \\\n",
       "0         0                   0                        0   \n",
       "1         0                   0                        0   \n",
       "2         0                   0                        0   \n",
       "3         0                   0                        0   \n",
       "4         0                   0                        0   \n",
       "\n",
       "   \"Accessible-height toilet\"  \"Air conditioning\"  \"Air purifier\"  \\\n",
       "0                           0                   0               0   \n",
       "1                           0                   0               0   \n",
       "2                           0                   0               0   \n",
       "3                           0                   0               0   \n",
       "4                           0                   0               0   \n",
       "\n",
       "   \"Airport shuttle\"  \"Alfresco bathtub\"  \"Amazon Echo\"  \"BBQ grill\"  ...  \\\n",
       "0                  0                   0              0            0  ...   \n",
       "1                  0                   0              0            0  ...   \n",
       "2                  0                   0              0            0  ...   \n",
       "3                  0                   0              0            0  ...   \n",
       "4                  0                   0              0            0  ...   \n",
       "\n",
       "   Safe  Shampoo  Ski-in/Ski-out  Stove  TV  Terrace  Washer  Washer/Dryer  \\\n",
       "0     0        1               0      0   0        0       1             0   \n",
       "1     0        1               0      0   1        0       1             0   \n",
       "2     0        0               0      1   1        0       1             0   \n",
       "3     0        1               0      1   1        0       1             0   \n",
       "4     0        1               0      1   0        0       1             0   \n",
       "\n",
       "   Waterfront  Wifi  \n",
       "0           0     1  \n",
       "1           0     1  \n",
       "2           0     1  \n",
       "3           0     1  \n",
       "4           0     1  \n",
       "\n",
       "[5 rows x 211 columns]"
      ]
     },
     "execution_count": 18,
     "metadata": {},
     "output_type": "execute_result"
    }
   ],
   "source": [
    "amenity_ohe.head(5)"
   ]
  },
  {
   "cell_type": "code",
   "execution_count": 19,
   "metadata": {},
   "outputs": [],
   "source": [
    "train[\"text\"] = train[\"name\"].str.cat(train[\"summary\"], sep = \" \")"
   ]
  },
  {
   "cell_type": "code",
   "execution_count": 20,
   "metadata": {},
   "outputs": [],
   "source": [
    "vect = CountVectorizer(stop_words = \"english\", min_df = 10)\n",
    "\n",
    "X_text = vect.fit_transform(train[\"text\"].values.astype('U'))\n"
   ]
  },
  {
   "cell_type": "code",
   "execution_count": 21,
   "metadata": {},
   "outputs": [],
   "source": [
    "#Models: Now build some models, first define few helper functions"
   ]
  },
  {
   "cell_type": "code",
   "execution_count": 22,
   "metadata": {},
   "outputs": [],
   "source": [
    "#metric:\n",
    "def rmse(y_true, y_pred):\n",
    "    return(np.sqrt(metrics.mean_squared_error(y_true, y_pred)))\n",
    "\n",
    "#evaluates rmse on a validation set:\n",
    "def eval_model(model, X, y, state = 3):\n",
    "    X_tr, X_val, y_tr, y_val = train_test_split(X, y, random_state = state)\n",
    "    preds = model.fit(X_tr, y_tr).predict(X_val)\n",
    "    return rmse(y_val, preds)"
   ]
  },
  {
   "cell_type": "code",
   "execution_count": 25,
   "metadata": {},
   "outputs": [
    {
     "data": {
      "text/plain": [
       "((84514, 65), (84514, 6814), (84514, 211))"
      ]
     },
     "execution_count": 25,
     "metadata": {},
     "output_type": "execute_result"
    }
   ],
   "source": [
    "(X_num.shape, X_text.shape, amenity_ohe.shape)\n"
   ]
  },
  {
   "cell_type": "code",
   "execution_count": 28,
   "metadata": {},
   "outputs": [],
   "source": [
    "#this is numeric + amenities:\n",
    "X = np.hstack((X_num, amenity_ohe))\n",
    "\n",
    "#this is all of them:\n",
    "X_full = np.hstack((X_num, amenity_ohe, X_text.toarray()))"
   ]
  },
  {
   "cell_type": "code",
   "execution_count": 27,
   "metadata": {},
   "outputs": [],
   "source": [
    "models_rmse = [eval_model(xgb.XGBRegressor(), X_num, y),\n",
    " eval_model(xgb.XGBRegressor(), X, y),\n",
    " eval_model(Ridge(), X_num, y),\n",
    " eval_model(Ridge(), X, y)]"
   ]
  },
  {
   "cell_type": "code",
   "execution_count": 25,
   "metadata": {},
   "outputs": [
    {
     "data": {
      "text/plain": [
       "xgb_num      55.864955\n",
       "xgb_ame      51.196783\n",
       "ridge        63.831629\n",
       "ridge_ame    60.589684\n",
       "dtype: float64"
      ]
     },
     "execution_count": 25,
     "metadata": {},
     "output_type": "execute_result"
    }
   ],
   "source": [
    "models_rmse = pd.Series(models_rmse, index = [\"xgb_num\", \"xgb_ame\", \"ridge\", \"ridge_ame\"] )\n",
    "models_rmse"
   ]
  },
  {
   "cell_type": "code",
   "execution_count": 26,
   "metadata": {},
   "outputs": [
    {
     "data": {
      "text/plain": [
       "<matplotlib.axes._subplots.AxesSubplot at 0x178619dc788>"
      ]
     },
     "execution_count": 26,
     "metadata": {},
     "output_type": "execute_result"
    },
    {
     "data": {
      "image/png": "[encoded data removed]",
      "text/plain": [
       "<Figure size 432x288 with 1 Axes>"
      ]
     },
     "metadata": {
      "needs_background": "light"
     },
     "output_type": "display_data"
    }
   ],
   "source": [
    "models_rmse.plot(kind = \"barh\")"
   ]
  },
  {
   "cell_type": "code",
   "execution_count": null,
   "metadata": {},
   "outputs": [],
   "source": [
    "# It appears xgboost is doing a little bit better than ridge and adding the amenities helps a bit ( around -1 rmse), but this is only on one validation set.\n",
    "\n",
    "To test our different models more in depth, we will do repeated train-validation split (note this is not exactly cross validation) and then see how our errors are distributed. We also add a baseline model that always predicts the mean."
   ]
  },
  {
   "cell_type": "code",
   "execution_count": 27,
   "metadata": {},
   "outputs": [],
   "source": [
    "results = []\n",
    "for i in range(30):\n",
    "    X_tr, X_val, y_tr, y_val = train_test_split(X_num, y)\n",
    "    y_baseline = [np.mean(y_tr)]*len(y_val)\n",
    "\n",
    "    model = Ridge(alpha = 5)\n",
    "    preds_logit = model.fit(X_tr, y_tr).predict(X_val)\n",
    "\n",
    "\n",
    "    model = xgb.XGBRegressor()  \n",
    "    preds_xgb = model.fit(X_tr, y_tr).predict(X_val)\n",
    "    \n",
    "    results.append((rmse(y_baseline, y_val),\n",
    "                    rmse(preds_logit, y_val),\n",
    "                    rmse(preds_xgb, y_val)\n",
    "                    ))"
   ]
  },
  {
   "cell_type": "code",
   "execution_count": 28,
   "metadata": {},
   "outputs": [
    {
     "data": {
      "text/plain": [
       "<matplotlib.axes._subplots.AxesSubplot at 0x17802062e88>"
      ]
     },
     "execution_count": 28,
     "metadata": {},
     "output_type": "execute_result"
    },
    {
     "data": {
      "image/png": "[encoded data removed]",
      "text/plain": [
       "<Figure size 432x288 with 1 Axes>"
      ]
     },
     "metadata": {
      "needs_background": "light"
     },
     "output_type": "display_data"
    }
   ],
   "source": [
    "results = pd.DataFrame(results, columns = [\"baseline\", \"ridge\", \"xgb\"])\n",
    "results.plot.hist(bins = 15, alpha = 0.5)"
   ]
  },
  {
   "cell_type": "code",
   "execution_count": 29,
   "metadata": {},
   "outputs": [
    {
     "data": {
      "text/html": [
       "<div>\n",
       "<style scoped>\n",
       "    .dataframe tbody tr th:only-of-type {\n",
       "        vertical-align: middle;\n",
       "    }\n",
       "\n",
       "    .dataframe tbody tr th {\n",
       "        vertical-align: top;\n",
       "    }\n",
       "\n",
       "    .dataframe thead th {\n",
       "        text-align: right;\n",
       "    }\n",
       "</style>\n",
       "<table border=\"1\" class=\"dataframe\">\n",
       "  <thead>\n",
       "    <tr style=\"text-align: right;\">\n",
       "      <th></th>\n",
       "      <th>baseline</th>\n",
       "      <th>ridge</th>\n",
       "      <th>xgb</th>\n",
       "    </tr>\n",
       "  </thead>\n",
       "  <tbody>\n",
       "    <tr>\n",
       "      <td>0</td>\n",
       "      <td>89.071004</td>\n",
       "      <td>63.898627</td>\n",
       "      <td>56.413411</td>\n",
       "    </tr>\n",
       "    <tr>\n",
       "      <td>1</td>\n",
       "      <td>0.561073</td>\n",
       "      <td>0.559170</td>\n",
       "      <td>0.498224</td>\n",
       "    </tr>\n",
       "  </tbody>\n",
       "</table>\n",
       "</div>"
      ],
      "text/plain": [
       "    baseline      ridge        xgb\n",
       "0  89.071004  63.898627  56.413411\n",
       "1   0.561073   0.559170   0.498224"
      ]
     },
     "execution_count": 29,
     "metadata": {},
     "output_type": "execute_result"
    }
   ],
   "source": [
    "pd.DataFrame([results.mean(), results.std()])"
   ]
  },
  {
   "cell_type": "markdown",
   "metadata": {},
   "source": [
    "Obviously, both ridge and xgboost beat the baseline performance by a very good margin. Also appears the xgboost model is performing even better than the Ridge Regression! If we wanted to see if the difference in rmse is statistically significant we could do a permutation test or a t-test but maybe will try that at a later time."
   ]
  },
  {
   "cell_type": "code",
   "execution_count": null,
   "metadata": {},
   "outputs": [],
   "source": []
  }
 ],
 "metadata": {
  "kernelspec": {
   "display_name": "Python 3",
   "language": "python",
   "name": "python3"
  },
  "language_info": {
   "codemirror_mode": {
    "name": "ipython",
    "version": 3
   },
   "file_extension": ".py",
   "mimetype": "text/x-python",
   "name": "python",
   "nbconvert_exporter": "python",
   "pygments_lexer": "ipython3",
   "version": "3.7.4"
  }
 },
 "nbformat": 4,
 "nbformat_minor": 2
}
